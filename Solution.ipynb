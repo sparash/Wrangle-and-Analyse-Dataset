{
 "cells": [
  {
   "cell_type": "markdown",
   "metadata": {},
   "source": [
    "## Gathering Data"
   ]
  },
  {
   "cell_type": "code",
   "execution_count": 1,
   "metadata": {},
   "outputs": [],
   "source": [
    "import tweepy\n",
    "import requests\n",
    "import pandas as pd\n",
    "import json\n",
    "import time\n",
    "import math\n",
    "import re"
   ]
  },
  {
   "cell_type": "code",
   "execution_count": null,
   "metadata": {},
   "outputs": [],
   "source": [
    "\n",
    "arc_df = pd.read_csv('twitter_archive_enhanced.csv')"
   ]
  },
  {
   "cell_type": "code",
   "execution_count": null,
   "metadata": {},
   "outputs": [],
   "source": [
    "\n",
    "url = 'https://d17h27t6h515a5.cloudfront.net/topher/2017/August/599fd2ad_image-predictions/image-predictions.tsv'\n",
    "response = requests.get(url)\n",
    "with open('image_predictions.tsv', mode='wb') as file:\n",
    "    file.write(response.content)\n",
    "    \n",
    "\n",
    "img_df = pd.read_csv('image_predictions.tsv', sep='\\t')"
   ]
  },
  {
   "cell_type": "code",
   "execution_count": 4,
   "metadata": {},
   "outputs": [],
   "source": [
    "\n",
    "consumer_key = 'YOUR CONSUMER KEY'\n",
    "consumer_secret = 'YOUR CONSUMER SECRET'\n",
    "access_token = 'YOUR ACCESS TOKEN'\n",
    "access_secret = 'YOUR ACCESS SECRET'"
   ]
  },
  {
   "cell_type": "code",
   "execution_count": 5,
   "metadata": {},
   "outputs": [],
   "source": [
    "auth = tweepy.OAuthHandler(consumer_key, consumer_secret)\n",
    "auth.set_access_token(access_token, access_secret)"
   ]
  },
  {
   "cell_type": "code",
   "execution_count": 6,
   "metadata": {},
   "outputs": [],
   "source": [
    "api = tweepy.API(auth_handler=auth, wait_on_rate_limit=True, wait_on_rate_limit_notify=True)"
   ]
  },
  {
   "cell_type": "code",
   "execution_count": null,
   "metadata": {
    "scrolled": true
   },
   "outputs": [],
   "source": [
    "\n",
    "\n",
    "start = time.time() # start timer\n",
    "\n",
    "with open('getstatus_error.txt', 'w') as errfile: \n",
    "    valid_ids = 0\n",
    "    err_ids = 0\n",
    "    tweet_ids = arc_df.tweet_id\n",
    "    with open('tweet_json.txt', 'w', encoding='utf-8') as outfile:\n",
    "        for i, tweet_id in tweet_ids.iteritems():\n",
    "            try:\n",
    "                print(\"%s# %s\" % (str(i+1), tweet_id))\n",
    "                # Get tweet data using Twitter API\n",
    "                tweet = api.get_status(tweet_id, tweet_mode='extended')\n",
    "                json_content = tweet._json\n",
    "                \n",
    "                # Write each tweet's JSON data to its own line in a file\n",
    "                json.dump(json_content, outfile)\n",
    "                outfile.write('\\n')\n",
    "                valid_ids += 1\n",
    "            except tweepy.TweepError as e:\n",
    "                err_ids += 1\n",
    "                err_str = []\n",
    "                err_str.append(str(tweet_id))\n",
    "                err_str.append(': ')\n",
    "                err_str.append(e.response.json()['errors'][0]['message'])\n",
    "                err_str.append('\\n')\n",
    "                errfile.write(''.join(err_str))\n",
    "                print(''.join(err_str))\n",
    "                continue\n",
    "        print(\"%s %s\" % ('Valid tweets:', valid_ids))\n",
    "        print(\"%s %s\" % ('Error tweets:', err_ids))\n",
    "        \n",
    "end = time.time() # end timer\n",
    "print((end - start)/(1000*60))"
   ]
  },
  {
   "cell_type": "code",
   "execution_count": null,
   "metadata": {},
   "outputs": [],
   "source": [
    "\n",
    "df_list = []\n",
    "with open('tweet_json.txt', 'r') as json_file:\n",
    "    for line in json_file:\n",
    "        status = json.loads(line)\n",
    "        \n",
    "        \n",
    "        df_list.append({'tweet_id': status['id'],\n",
    "                        'retweet_count': status['retweet_count'],\n",
    "                        'favorite_count': status['favorite_count'],\n",
    "                        'display_text_range': status['display_text_range']\n",
    "                       })\n",
    "\n",
    "\n",
    "status_df = pd.DataFrame(df_list, columns = ['tweet_id', 'retweet_count', 'favorite_count', 'display_text_range'])"
   ]
  },
  {
   "cell_type": "markdown",
   "metadata": {},
   "source": [
    "---"
   ]
  },
  {
   "cell_type": "markdown",
   "metadata": {},
   "source": [
    "## Assessing Data"
   ]
  },
  {
   "cell_type": "code",
   "execution_count": null,
   "metadata": {
    "scrolled": true
   },
   "outputs": [],
   "source": [
    "arc_df.sample(5)"
   ]
  },
  {
   "cell_type": "markdown",
   "metadata": {},
   "source": [
    "`arc_df` (Twitter archive) columns:\n",
    "- **tweet_id**: the unique identifier for each tweet\n",
    "- **in_reply_to_status_id**: if the represented Tweet is a reply, this field will contain the integer representation of the original Tweet’s ID\n",
    "- **in_reply_to_user_id**: if the represented Tweet is a reply, this field will contain the integer representation of the original Tweet’s author ID\n",
    "- **timestamp**: time when this Tweet was created\n",
    "- **source**: utility used to post the Tweet, as an HTML-formatted string. e.g. Twitter for Android, Twitter for iPhone, Twitter Web Client\n",
    "- **text**: actual UTF-8 text of the status update\n",
    "- **retweeted_status_id**: if the represented Tweet is a retweet, this field will contain the integer representation of the original Tweet’s ID\n",
    "- **retweeted_status_user_id**: if the represented Tweet is a retweet, this field will contain the integer representation of the original Tweet’s author ID\n",
    "- **retweeted_status_timestamp**: time of retweet\n",
    "- **expanded_urls**: tweet URL\n",
    "- **rating_numerator**: numerator of the rating of a dog. Note: ratings almost always greater than 10\n",
    "- **rating_denominator**: denominator of the rating of a dog. Note: ratings almost always have a denominator of 10\n",
    "- **name**: name of the dog\n",
    "- **doggo**: one of the 4 dog \"stage\"\n",
    "- **floofer**: one of the 4 dog \"stage\"\n",
    "- **pupper**: one of the 4 dog \"stage\"\n",
    "- **puppo**: one of the 4 dog \"stage\""
   ]
  },
  {
   "cell_type": "code",
   "execution_count": null,
   "metadata": {},
   "outputs": [],
   "source": [
    "arc_df.info()"
   ]
  },
  {
   "cell_type": "code",
   "execution_count": 1889,
   "metadata": {},
   "outputs": [
    {
     "data": {
      "text/plain": [
       "181"
      ]
     },
     "execution_count": 1889,
     "metadata": {},
     "output_type": "execute_result"
    }
   ],
   "source": [
    "\n",
    "len(arc_df[arc_df.retweeted_status_id.isnull() == False])"
   ]
  },
  {
   "cell_type": "code",
   "execution_count": 1894,
   "metadata": {},
   "outputs": [
    {
     "data": {
      "text/plain": [
       "281"
      ]
     },
     "execution_count": 1894,
     "metadata": {},
     "output_type": "execute_result"
    }
   ],
   "source": [
    "\n",
    "len(arc_df[~arc_df.tweet_id.isin(img_df.tweet_id)])"
   ]
  },
  {
   "cell_type": "code",
   "execution_count": 1871,
   "metadata": {
    "scrolled": true
   },
   "outputs": [
    {
     "data": {
      "text/plain": [
       "0         1\n",
       "2         1\n",
       "7         1\n",
       "10     2333\n",
       "11        3\n",
       "15        1\n",
       "16        1\n",
       "20        2\n",
       "40        1\n",
       "50        3\n",
       "70        1\n",
       "80        2\n",
       "90        1\n",
       "110       1\n",
       "120       1\n",
       "130       1\n",
       "150       1\n",
       "170       1\n",
       "Name: rating_denominator, dtype: int64"
      ]
     },
     "execution_count": 1871,
     "metadata": {},
     "output_type": "execute_result"
    }
   ],
   "source": [
    "\n",
    "arc_df.rating_denominator.value_counts().sort_index()"
   ]
  },
  {
   "cell_type": "code",
   "execution_count": 1872,
   "metadata": {
    "scrolled": true
   },
   "outputs": [
    {
     "data": {
      "text/plain": [
       "0         2\n",
       "1         9\n",
       "2         9\n",
       "3        19\n",
       "4        17\n",
       "5        37\n",
       "6        32\n",
       "7        55\n",
       "8       102\n",
       "9       158\n",
       "10      461\n",
       "11      464\n",
       "12      558\n",
       "13      351\n",
       "14       54\n",
       "15        2\n",
       "17        1\n",
       "20        1\n",
       "24        1\n",
       "26        1\n",
       "27        1\n",
       "44        1\n",
       "45        1\n",
       "50        1\n",
       "60        1\n",
       "75        2\n",
       "80        1\n",
       "84        1\n",
       "88        1\n",
       "99        1\n",
       "121       1\n",
       "143       1\n",
       "144       1\n",
       "165       1\n",
       "182       1\n",
       "204       1\n",
       "420       2\n",
       "666       1\n",
       "960       1\n",
       "1776      1\n",
       "Name: rating_numerator, dtype: int64"
      ]
     },
     "execution_count": 1872,
     "metadata": {},
     "output_type": "execute_result"
    }
   ],
   "source": [
    "\n",
    "arc_df.rating_numerator.value_counts().sort_index()"
   ]
  },
  {
   "cell_type": "code",
   "execution_count": 993,
   "metadata": {
    "scrolled": true
   },
   "outputs": [
    {
     "data": {
      "text/plain": [
       "very             5\n",
       "unacceptable     1\n",
       "this             1\n",
       "the              8\n",
       "such             1\n",
       "space            1\n",
       "quite            4\n",
       "one              4\n",
       "old              1\n",
       "officially       1\n",
       "not              2\n",
       "my               1\n",
       "mad              2\n",
       "light            1\n",
       "life             1\n",
       "just             4\n",
       "infuriating      1\n",
       "incredibly       1\n",
       "his              1\n",
       "getting          2\n",
       "by               1\n",
       "an               7\n",
       "all              1\n",
       "actually         2\n",
       "a               55\n",
       "Zuzu             1\n",
       "Zooey            1\n",
       "Zoey             3\n",
       "Zoe              1\n",
       "Ziva             1\n",
       "                ..\n",
       "Apollo           1\n",
       "Antony           1\n",
       "Anthony          1\n",
       "Anna             1\n",
       "Angel            1\n",
       "Andy             1\n",
       "Andru            1\n",
       "Anakin           2\n",
       "Amélie           1\n",
       "Amy              1\n",
       "Ambrose          1\n",
       "Amber            1\n",
       "Alice            2\n",
       "Alfy             1\n",
       "Alfie            5\n",
       "Alf              1\n",
       "Alexanderson     1\n",
       "Alexander        1\n",
       "Alejandro        1\n",
       "Aldrick          1\n",
       "Albus            2\n",
       "Albert           2\n",
       "Al               1\n",
       "Akumi            1\n",
       "Aja              1\n",
       "Aiden            1\n",
       "Adele            1\n",
       "Acro             1\n",
       "Ace              1\n",
       "Abby             2\n",
       "Name: name, Length: 957, dtype: int64"
      ]
     },
     "execution_count": 993,
     "metadata": {},
     "output_type": "execute_result"
    }
   ],
   "source": [
    "arc_df.name.value_counts().sort_index(ascending=False)"
   ]
  },
  {
   "cell_type": "code",
   "execution_count": 1873,
   "metadata": {},
   "outputs": [
    {
     "data": {
      "text/plain": [
       "1"
      ]
     },
     "execution_count": 1873,
     "metadata": {},
     "output_type": "execute_result"
    }
   ],
   "source": [
    "\n",
    "len(arc_df[(arc_df.doggo != 'None') & (arc_df.floofer != 'None')])"
   ]
  },
  {
   "cell_type": "code",
   "execution_count": 1874,
   "metadata": {
    "scrolled": true
   },
   "outputs": [
    {
     "data": {
      "text/plain": [
       "12"
      ]
     },
     "execution_count": 1874,
     "metadata": {},
     "output_type": "execute_result"
    }
   ],
   "source": [
    "\n",
    "len(arc_df[(arc_df.doggo != 'None') & (arc_df.pupper != 'None')])"
   ]
  },
  {
   "cell_type": "code",
   "execution_count": 1875,
   "metadata": {},
   "outputs": [
    {
     "data": {
      "text/plain": [
       "1"
      ]
     },
     "execution_count": 1875,
     "metadata": {},
     "output_type": "execute_result"
    }
   ],
   "source": [
    "\n",
    "len(arc_df[(arc_df.doggo != 'None') & (arc_df.puppo != 'None')])"
   ]
  },
  {
   "cell_type": "code",
   "execution_count": 1876,
   "metadata": {},
   "outputs": [
    {
     "data": {
      "text/plain": [
       "0"
      ]
     },
     "execution_count": 1876,
     "metadata": {},
     "output_type": "execute_result"
    }
   ],
   "source": [
    "\n",
    "len(arc_df[(arc_df.floofer != 'None') & (arc_df.pupper != 'None')])"
   ]
  },
  {
   "cell_type": "code",
   "execution_count": 1878,
   "metadata": {},
   "outputs": [
    {
     "data": {
      "text/plain": [
       "0"
      ]
     },
     "execution_count": 1878,
     "metadata": {},
     "output_type": "execute_result"
    }
   ],
   "source": [
    "\n",
    "len(arc_df[(arc_df.floofer != 'None') & (arc_df.puppo != 'None')])"
   ]
  },
  {
   "cell_type": "code",
   "execution_count": 1879,
   "metadata": {},
   "outputs": [
    {
     "data": {
      "text/plain": [
       "0"
      ]
     },
     "execution_count": 1879,
     "metadata": {},
     "output_type": "execute_result"
    }
   ],
   "source": [
    "\n",
    "len(arc_df[(arc_df.pupper != 'None') & (arc_df.puppo != 'None')])"
   ]
  },
  {
   "cell_type": "code",
   "execution_count": 1880,
   "metadata": {
    "scrolled": true
   },
   "outputs": [
    {
     "data": {
      "text/html": [
       "<div>\n",
       "<style>\n",
       "    .dataframe thead tr:only-child th {\n",
       "        text-align: right;\n",
       "    }\n",
       "\n",
       "    .dataframe thead th {\n",
       "        text-align: left;\n",
       "    }\n",
       "\n",
       "    .dataframe tbody tr th {\n",
       "        vertical-align: top;\n",
       "    }\n",
       "</style>\n",
       "<table border=\"1\" class=\"dataframe\">\n",
       "  <thead>\n",
       "    <tr style=\"text-align: right;\">\n",
       "      <th></th>\n",
       "      <th>tweet_id</th>\n",
       "      <th>jpg_url</th>\n",
       "      <th>img_num</th>\n",
       "      <th>p1</th>\n",
       "      <th>p1_conf</th>\n",
       "      <th>p1_dog</th>\n",
       "      <th>p2</th>\n",
       "      <th>p2_conf</th>\n",
       "      <th>p2_dog</th>\n",
       "      <th>p3</th>\n",
       "      <th>p3_conf</th>\n",
       "      <th>p3_dog</th>\n",
       "    </tr>\n",
       "  </thead>\n",
       "  <tbody>\n",
       "    <tr>\n",
       "      <th>1950</th>\n",
       "      <td>863079547188785154</td>\n",
       "      <td>https://pbs.twimg.com/media/C_pGRInUwAAmTY_.jpg</td>\n",
       "      <td>1</td>\n",
       "      <td>Lakeland_terrier</td>\n",
       "      <td>0.275242</td>\n",
       "      <td>True</td>\n",
       "      <td>Airedale</td>\n",
       "      <td>0.190569</td>\n",
       "      <td>True</td>\n",
       "      <td>teddy</td>\n",
       "      <td>0.102595</td>\n",
       "      <td>False</td>\n",
       "    </tr>\n",
       "    <tr>\n",
       "      <th>527</th>\n",
       "      <td>676617503762681856</td>\n",
       "      <td>https://pbs.twimg.com/media/CWPUB9TWwAALPPx.jpg</td>\n",
       "      <td>1</td>\n",
       "      <td>Chihuahua</td>\n",
       "      <td>0.841084</td>\n",
       "      <td>True</td>\n",
       "      <td>Pomeranian</td>\n",
       "      <td>0.120530</td>\n",
       "      <td>True</td>\n",
       "      <td>Pekinese</td>\n",
       "      <td>0.006600</td>\n",
       "      <td>True</td>\n",
       "    </tr>\n",
       "    <tr>\n",
       "      <th>1409</th>\n",
       "      <td>770414278348247044</td>\n",
       "      <td>https://pbs.twimg.com/media/CrEPsfWXEAAKvem.jpg</td>\n",
       "      <td>1</td>\n",
       "      <td>maillot</td>\n",
       "      <td>0.580528</td>\n",
       "      <td>False</td>\n",
       "      <td>maillot</td>\n",
       "      <td>0.081449</td>\n",
       "      <td>False</td>\n",
       "      <td>golden_retriever</td>\n",
       "      <td>0.053570</td>\n",
       "      <td>True</td>\n",
       "    </tr>\n",
       "    <tr>\n",
       "      <th>854</th>\n",
       "      <td>696488710901260288</td>\n",
       "      <td>https://pbs.twimg.com/media/CapsyfkWcAQ41uC.jpg</td>\n",
       "      <td>1</td>\n",
       "      <td>briard</td>\n",
       "      <td>0.369063</td>\n",
       "      <td>True</td>\n",
       "      <td>Scotch_terrier</td>\n",
       "      <td>0.168204</td>\n",
       "      <td>True</td>\n",
       "      <td>giant_schnauzer</td>\n",
       "      <td>0.120553</td>\n",
       "      <td>True</td>\n",
       "    </tr>\n",
       "    <tr>\n",
       "      <th>899</th>\n",
       "      <td>699788877217865730</td>\n",
       "      <td>https://pbs.twimg.com/media/CbYmRHyWEAASNzm.jpg</td>\n",
       "      <td>1</td>\n",
       "      <td>Border_terrier</td>\n",
       "      <td>0.355060</td>\n",
       "      <td>True</td>\n",
       "      <td>toy_poodle</td>\n",
       "      <td>0.169736</td>\n",
       "      <td>True</td>\n",
       "      <td>Norwegian_elkhound</td>\n",
       "      <td>0.099884</td>\n",
       "      <td>True</td>\n",
       "    </tr>\n",
       "  </tbody>\n",
       "</table>\n",
       "</div>"
      ],
      "text/plain": [
       "                tweet_id                                          jpg_url  \\\n",
       "1950  863079547188785154  https://pbs.twimg.com/media/C_pGRInUwAAmTY_.jpg   \n",
       "527   676617503762681856  https://pbs.twimg.com/media/CWPUB9TWwAALPPx.jpg   \n",
       "1409  770414278348247044  https://pbs.twimg.com/media/CrEPsfWXEAAKvem.jpg   \n",
       "854   696488710901260288  https://pbs.twimg.com/media/CapsyfkWcAQ41uC.jpg   \n",
       "899   699788877217865730  https://pbs.twimg.com/media/CbYmRHyWEAASNzm.jpg   \n",
       "\n",
       "      img_num                p1   p1_conf  p1_dog              p2   p2_conf  \\\n",
       "1950        1  Lakeland_terrier  0.275242    True        Airedale  0.190569   \n",
       "527         1         Chihuahua  0.841084    True      Pomeranian  0.120530   \n",
       "1409        1           maillot  0.580528   False         maillot  0.081449   \n",
       "854         1            briard  0.369063    True  Scotch_terrier  0.168204   \n",
       "899         1    Border_terrier  0.355060    True      toy_poodle  0.169736   \n",
       "\n",
       "      p2_dog                  p3   p3_conf  p3_dog  \n",
       "1950    True               teddy  0.102595   False  \n",
       "527     True            Pekinese  0.006600    True  \n",
       "1409   False    golden_retriever  0.053570    True  \n",
       "854     True     giant_schnauzer  0.120553    True  \n",
       "899     True  Norwegian_elkhound  0.099884    True  "
      ]
     },
     "execution_count": 1880,
     "metadata": {},
     "output_type": "execute_result"
    }
   ],
   "source": [
    "img_df.sample(5)"
   ]
  },
  {
   "cell_type": "markdown",
   "metadata": {},
   "source": [
    "`img_df` (tweet image predictions) columns:\n",
    "- **tweet_id**: the unique identifier for each tweet\n",
    "- **jpg_url**: dog's image URL\n",
    "- **img_num**: the image number that corresponded to the most confident prediction (numbered 1 to 4 since tweets can have up to four images)\n",
    "- **p1**: algorithm's #1 prediction for the image in the tweet\n",
    "- **p1_conf**: how confident the algorithm is in its #1 prediction\n",
    "- **p1_dog**: whether or not the #1 prediction is a breed of dog\n",
    "- **p2**: algorithm's #2 prediction for the image in the tweet\n",
    "- **p2_conf**: how confident the algorithm is in its #2 prediction\n",
    "- **p2_dog**: whether or not the #2 prediction is a breed of dog\n",
    "- **p3**: algorithm's #3 prediction for the image in the tweet\n",
    "- **p3_conf**: how confident the algorithm is in its #3 prediction\n",
    "- **p3_dog**: whether or not the #3 prediction is a breed of dog"
   ]
  },
  {
   "cell_type": "code",
   "execution_count": 1881,
   "metadata": {},
   "outputs": [
    {
     "name": "stdout",
     "output_type": "stream",
     "text": [
      "<class 'pandas.core.frame.DataFrame'>\n",
      "RangeIndex: 2075 entries, 0 to 2074\n",
      "Data columns (total 12 columns):\n",
      "tweet_id    2075 non-null int64\n",
      "jpg_url     2075 non-null object\n",
      "img_num     2075 non-null int64\n",
      "p1          2075 non-null object\n",
      "p1_conf     2075 non-null float64\n",
      "p1_dog      2075 non-null bool\n",
      "p2          2075 non-null object\n",
      "p2_conf     2075 non-null float64\n",
      "p2_dog      2075 non-null bool\n",
      "p3          2075 non-null object\n",
      "p3_conf     2075 non-null float64\n",
      "p3_dog      2075 non-null bool\n",
      "dtypes: bool(3), float64(3), int64(2), object(4)\n",
      "memory usage: 152.1+ KB\n"
     ]
    }
   ],
   "source": [
    "img_df.info()"
   ]
  },
  {
   "cell_type": "code",
   "execution_count": 1882,
   "metadata": {},
   "outputs": [
    {
     "data": {
      "text/html": [
       "<div>\n",
       "<style>\n",
       "    .dataframe thead tr:only-child th {\n",
       "        text-align: right;\n",
       "    }\n",
       "\n",
       "    .dataframe thead th {\n",
       "        text-align: left;\n",
       "    }\n",
       "\n",
       "    .dataframe tbody tr th {\n",
       "        vertical-align: top;\n",
       "    }\n",
       "</style>\n",
       "<table border=\"1\" class=\"dataframe\">\n",
       "  <thead>\n",
       "    <tr style=\"text-align: right;\">\n",
       "      <th></th>\n",
       "      <th>tweet_id</th>\n",
       "      <th>retweet_count</th>\n",
       "      <th>favorite_count</th>\n",
       "      <th>display_text_range</th>\n",
       "    </tr>\n",
       "  </thead>\n",
       "  <tbody>\n",
       "    <tr>\n",
       "      <th>531</th>\n",
       "      <td>807106840509214720</td>\n",
       "      <td>56299</td>\n",
       "      <td>106551</td>\n",
       "      <td>[0, 61]</td>\n",
       "    </tr>\n",
       "    <tr>\n",
       "      <th>1508</th>\n",
       "      <td>691096613310316544</td>\n",
       "      <td>1016</td>\n",
       "      <td>3242</td>\n",
       "      <td>[0, 140]</td>\n",
       "    </tr>\n",
       "    <tr>\n",
       "      <th>888</th>\n",
       "      <td>759446261539934208</td>\n",
       "      <td>555</td>\n",
       "      <td>1841</td>\n",
       "      <td>[0, 140]</td>\n",
       "    </tr>\n",
       "    <tr>\n",
       "      <th>1083</th>\n",
       "      <td>737826014890496000</td>\n",
       "      <td>2000</td>\n",
       "      <td>5727</td>\n",
       "      <td>[0, 114]</td>\n",
       "    </tr>\n",
       "    <tr>\n",
       "      <th>930</th>\n",
       "      <td>753398408988139520</td>\n",
       "      <td>2171</td>\n",
       "      <td>6361</td>\n",
       "      <td>[0, 55]</td>\n",
       "    </tr>\n",
       "  </tbody>\n",
       "</table>\n",
       "</div>"
      ],
      "text/plain": [
       "                tweet_id  retweet_count  favorite_count display_text_range\n",
       "531   807106840509214720          56299          106551            [0, 61]\n",
       "1508  691096613310316544           1016            3242           [0, 140]\n",
       "888   759446261539934208            555            1841           [0, 140]\n",
       "1083  737826014890496000           2000            5727           [0, 114]\n",
       "930   753398408988139520           2171            6361            [0, 55]"
      ]
     },
     "execution_count": 1882,
     "metadata": {},
     "output_type": "execute_result"
    }
   ],
   "source": [
    "status_df.sample(5)"
   ]
  },
  {
   "cell_type": "markdown",
   "metadata": {},
   "source": [
    "`status_df` (tweet status) columns:\n",
    "- **id**: the unique identifier for each tweet\n",
    "- **retweet_count**: number of times this Tweet has been retweeted\n",
    "- **favorite_count**: indicates approximately how many times this Tweet has been liked by Twitter users\n",
    "- **display_text_range**: an array of two unicode code point indices, identifying the inclusive start and exclusive end of the displayable content of the Tweet"
   ]
  },
  {
   "cell_type": "code",
   "execution_count": 1883,
   "metadata": {},
   "outputs": [
    {
     "name": "stdout",
     "output_type": "stream",
     "text": [
      "<class 'pandas.core.frame.DataFrame'>\n",
      "RangeIndex: 2351 entries, 0 to 2350\n",
      "Data columns (total 4 columns):\n",
      "tweet_id              2351 non-null int64\n",
      "retweet_count         2351 non-null int64\n",
      "favorite_count        2351 non-null int64\n",
      "display_text_range    2351 non-null object\n",
      "dtypes: int64(3), object(1)\n",
      "memory usage: 73.5+ KB\n"
     ]
    }
   ],
   "source": [
    "status_df.info()"
   ]
  },
  {
   "cell_type": "markdown",
   "metadata": {},
   "source": [
    "### Quality\n",
    "##### `arc_df` (Twitter archive) table\n",
    "- contains retweets and therefore, duplicates\n",
    "- many *tweet_id*(s) of `arc_df` table are missing in `img_df` (image predictions) table\n",
    "- erroneous datatypes (*in_reply_to_status_id, in_reply_to_user_id and timestamp* columns)\n",
    "- unnecessary html tags in *source* column in place of utility name e.g. `<a href=\"\"http://twitter.com/download/iphone\"\" rel=\"\"nofollow\"\">Twitter for iPhone</a>`\n",
    "- *text* column contains untruncated text instead of displayable text\n",
    "- *rating_numerator* column has values less than 10 as well as some very large numbers (e.g. 1176)\n",
    "- *rating_denominator* column has values other than 10\n",
    "- erroneous dog names starting with lowercase characters (e.g. a, an, actually, by)\n",
    "- some records have more than one dog stage"
   ]
  },
  {
   "cell_type": "markdown",
   "metadata": {},
   "source": [
    "### Tidiness\n",
    "- `arc_df` without any duplicates (i.e. retweets) will have empty *retweeted_status_id, retweeted_status_user_id* and *retweeted_status_timestamp* columns, which can be dropped\n",
    "- *doggo, floofer, pupper* and *puppo* columns in `arc_df` table should be merged into one column named *\"stage\"*\n",
    "- *\"breed\"* column should be added in `arc_df` table; its values based on *p1_conf* and *p1_dog* columns of `img_df` (image predictions) table\n",
    "- *retweet_count* and *favorite_count* columns from `status_df` (tweet status) table should be joined with `arc_df` table"
   ]
  },
  {
   "cell_type": "markdown",
   "metadata": {},
   "source": [
    "---"
   ]
  },
  {
   "cell_type": "markdown",
   "metadata": {},
   "source": [
    "## Cleaning Data"
   ]
  },
  {
   "cell_type": "code",
   "execution_count": 1921,
   "metadata": {
    "collapsed": true
   },
   "outputs": [],
   "source": [
    "\n",
    "archive_clean = arc_df.copy()"
   ]
  },
  {
   "cell_type": "markdown",
   "metadata": {},
   "source": [
    "### Quality"
   ]
  },
  {
   "cell_type": "markdown",
   "metadata": {},
   "source": [
    "#### `arc_df`: contains retweets and therefore, duplicates"
   ]
  },
  {
   "cell_type": "markdown",
   "metadata": {},
   "source": [
    "##### Define\n",
    "Keep only those rows in `arc_df` table that are original tweets and NOT retweets (i.e. *retweeted_status_id* column is null). Delete the rest."
   ]
  },
  {
   "cell_type": "markdown",
   "metadata": {},
   "source": [
    "##### Code"
   ]
  },
  {
   "cell_type": "code",
   "execution_count": 1922,
   "metadata": {
    "collapsed": true
   },
   "outputs": [],
   "source": [
    "archive_clean = archive_clean[archive_clean.retweeted_status_id.isnull()]"
   ]
  },
  {
   "cell_type": "markdown",
   "metadata": {},
   "source": [
    "##### Test"
   ]
  },
  {
   "cell_type": "code",
   "execution_count": 1887,
   "metadata": {},
   "outputs": [
    {
     "data": {
      "text/plain": [
       "0"
      ]
     },
     "execution_count": 1887,
     "metadata": {},
     "output_type": "execute_result"
    }
   ],
   "source": [
    "len(archive_clean[archive_clean.retweeted_status_id.isnull() == False])"
   ]
  },
  {
   "cell_type": "markdown",
   "metadata": {
    "collapsed": true
   },
   "source": [
    "#### `arc_df`: many *tweet_id*(s) of `arc_df` table are missing in `img_df` (image predictions) table"
   ]
  },
  {
   "cell_type": "markdown",
   "metadata": {},
   "source": [
    "##### Define\n",
    "Keep only those records in `arc_df` table whose *tweet_id* exists in `img_df` table"
   ]
  },
  {
   "cell_type": "markdown",
   "metadata": {},
   "source": [
    "##### Code"
   ]
  },
  {
   "cell_type": "code",
   "execution_count": 1923,
   "metadata": {
    "collapsed": true
   },
   "outputs": [],
   "source": [
    "archive_clean = archive_clean[archive_clean.tweet_id.isin(img_df.tweet_id)]"
   ]
  },
  {
   "cell_type": "markdown",
   "metadata": {},
   "source": [
    "##### Test"
   ]
  },
  {
   "cell_type": "code",
   "execution_count": 1924,
   "metadata": {},
   "outputs": [
    {
     "data": {
      "text/plain": [
       "0"
      ]
     },
     "execution_count": 1924,
     "metadata": {},
     "output_type": "execute_result"
    }
   ],
   "source": [
    "len(archive_clean[~archive_clean.tweet_id.isin(img_df.tweet_id)])"
   ]
  },
  {
   "cell_type": "markdown",
   "metadata": {},
   "source": [
    "### Tidiness"
   ]
  },
  {
   "cell_type": "markdown",
   "metadata": {},
   "source": [
    "#### `arc_df` table without any duplicates (i.e. retweets) have empty *retweeted_status_id, retweeted_status_user_id* and *retweeted_status_timestamp* columns, which can be dropped"
   ]
  },
  {
   "cell_type": "code",
   "execution_count": 1925,
   "metadata": {},
   "outputs": [
    {
     "name": "stdout",
     "output_type": "stream",
     "text": [
      "<class 'pandas.core.frame.DataFrame'>\n",
      "Int64Index: 1994 entries, 0 to 2355\n",
      "Data columns (total 17 columns):\n",
      "tweet_id                      1994 non-null int64\n",
      "in_reply_to_status_id         23 non-null float64\n",
      "in_reply_to_user_id           23 non-null float64\n",
      "timestamp                     1994 non-null object\n",
      "source                        1994 non-null object\n",
      "text                          1994 non-null object\n",
      "retweeted_status_id           0 non-null float64\n",
      "retweeted_status_user_id      0 non-null float64\n",
      "retweeted_status_timestamp    0 non-null object\n",
      "expanded_urls                 1994 non-null object\n",
      "rating_numerator              1994 non-null int64\n",
      "rating_denominator            1994 non-null int64\n",
      "name                          1994 non-null object\n",
      "doggo                         1994 non-null object\n",
      "floofer                       1994 non-null object\n",
      "pupper                        1994 non-null object\n",
      "puppo                         1994 non-null object\n",
      "dtypes: float64(4), int64(3), object(10)\n",
      "memory usage: 280.4+ KB\n"
     ]
    }
   ],
   "source": [
    "archive_clean.info()"
   ]
  },
  {
   "cell_type": "markdown",
   "metadata": {},
   "source": [
    "##### Define\n",
    "Drop *retweeted_status_id, retweeted_status_user_id* and *retweeted_status_timestamp* columns from `arc_df` table"
   ]
  },
  {
   "cell_type": "markdown",
   "metadata": {},
   "source": [
    "#### Code"
   ]
  },
  {
   "cell_type": "code",
   "execution_count": 1926,
   "metadata": {
    "collapsed": true
   },
   "outputs": [],
   "source": [
    "archive_clean.drop(['retweeted_status_id', 'retweeted_status_user_id', 'retweeted_status_timestamp'], axis=1, inplace=True)"
   ]
  },
  {
   "cell_type": "markdown",
   "metadata": {},
   "source": [
    "#### Test"
   ]
  },
  {
   "cell_type": "code",
   "execution_count": 1927,
   "metadata": {},
   "outputs": [
    {
     "name": "stdout",
     "output_type": "stream",
     "text": [
      "<class 'pandas.core.frame.DataFrame'>\n",
      "Int64Index: 1994 entries, 0 to 2355\n",
      "Data columns (total 14 columns):\n",
      "tweet_id                 1994 non-null int64\n",
      "in_reply_to_status_id    23 non-null float64\n",
      "in_reply_to_user_id      23 non-null float64\n",
      "timestamp                1994 non-null object\n",
      "source                   1994 non-null object\n",
      "text                     1994 non-null object\n",
      "expanded_urls            1994 non-null object\n",
      "rating_numerator         1994 non-null int64\n",
      "rating_denominator       1994 non-null int64\n",
      "name                     1994 non-null object\n",
      "doggo                    1994 non-null object\n",
      "floofer                  1994 non-null object\n",
      "pupper                   1994 non-null object\n",
      "puppo                    1994 non-null object\n",
      "dtypes: float64(2), int64(3), object(9)\n",
      "memory usage: 233.7+ KB\n"
     ]
    }
   ],
   "source": [
    "archive_clean.info()"
   ]
  },
  {
   "cell_type": "markdown",
   "metadata": {},
   "source": [
    "### Quality"
   ]
  },
  {
   "cell_type": "markdown",
   "metadata": {
    "collapsed": true
   },
   "source": [
    "#### `arc_df`: erroneous datatypes (*in_reply_to_status_id, in_reply_to_user_id* and *timestamp* columns)"
   ]
  },
  {
   "cell_type": "markdown",
   "metadata": {},
   "source": [
    "##### Define\n",
    "Convert *in_reply_to_status_id* and *in_reply_to_user_id* to data type integer. Convert *timestamp* to datetime data type"
   ]
  },
  {
   "cell_type": "markdown",
   "metadata": {},
   "source": [
    "##### Code"
   ]
  },
  {
   "cell_type": "code",
   "execution_count": 1928,
   "metadata": {
    "collapsed": true
   },
   "outputs": [],
   "source": [
    "archive_clean.in_reply_to_status_id = archive_clean.in_reply_to_status_id.fillna(0)\n",
    "archive_clean.in_reply_to_user_id = archive_clean.in_reply_to_user_id.fillna(0)\n",
    "\n",
    "archive_clean.in_reply_to_status_id = archive_clean.in_reply_to_status_id.astype(np.int64)\n",
    "archive_clean.in_reply_to_user_id = archive_clean.in_reply_to_user_id.astype(np.int64)\n",
    "\n",
    "archive_clean.timestamp = pd.to_datetime(archive_clean.timestamp)"
   ]
  },
  {
   "cell_type": "markdown",
   "metadata": {},
   "source": [
    "##### Test"
   ]
  },
  {
   "cell_type": "code",
   "execution_count": 1929,
   "metadata": {
    "scrolled": true
   },
   "outputs": [
    {
     "name": "stdout",
     "output_type": "stream",
     "text": [
      "<class 'pandas.core.frame.DataFrame'>\n",
      "Int64Index: 1994 entries, 0 to 2355\n",
      "Data columns (total 14 columns):\n",
      "tweet_id                 1994 non-null int64\n",
      "in_reply_to_status_id    1994 non-null int64\n",
      "in_reply_to_user_id      1994 non-null int64\n",
      "timestamp                1994 non-null datetime64[ns]\n",
      "source                   1994 non-null object\n",
      "text                     1994 non-null object\n",
      "expanded_urls            1994 non-null object\n",
      "rating_numerator         1994 non-null int64\n",
      "rating_denominator       1994 non-null int64\n",
      "name                     1994 non-null object\n",
      "doggo                    1994 non-null object\n",
      "floofer                  1994 non-null object\n",
      "pupper                   1994 non-null object\n",
      "puppo                    1994 non-null object\n",
      "dtypes: datetime64[ns](1), int64(5), object(8)\n",
      "memory usage: 233.7+ KB\n"
     ]
    }
   ],
   "source": [
    "archive_clean.info()"
   ]
  },
  {
   "cell_type": "markdown",
   "metadata": {
    "collapsed": true
   },
   "source": [
    "#### `arc_df`: unnecessary html tags in *source* column in place of utility name e.g. `<a href=\"\"http://twitter.com/download/iphone\"\" rel=\"\"nofollow\"\">Twitter for iPhone</a>`"
   ]
  },
  {
   "cell_type": "markdown",
   "metadata": {},
   "source": [
    "##### Define\n",
    "Strip all html anchor tags (i.e. `<a..></a>`) in *source* column and retain just the text in between the tags. Convert the datatype from string to categorical."
   ]
  },
  {
   "cell_type": "markdown",
   "metadata": {},
   "source": [
    "#### Code"
   ]
  },
  {
   "cell_type": "code",
   "execution_count": 1930,
   "metadata": {
    "collapsed": true
   },
   "outputs": [],
   "source": [
    "archive_clean.source = archive_clean.source.str.replace(r'<(?:a\\b[^>]*>|/a>)', '')"
   ]
  },
  {
   "cell_type": "code",
   "execution_count": 1931,
   "metadata": {
    "collapsed": true
   },
   "outputs": [],
   "source": [
    "archive_clean.source = archive_clean.source.astype('category')"
   ]
  },
  {
   "cell_type": "markdown",
   "metadata": {},
   "source": [
    "#### Test"
   ]
  },
  {
   "cell_type": "code",
   "execution_count": 1932,
   "metadata": {},
   "outputs": [
    {
     "data": {
      "text/plain": [
       "Twitter for iPhone    1955\n",
       "Twitter Web Client      28\n",
       "TweetDeck               11\n",
       "Name: source, dtype: int64"
      ]
     },
     "execution_count": 1932,
     "metadata": {},
     "output_type": "execute_result"
    }
   ],
   "source": [
    "archive_clean.source.value_counts()"
   ]
  },
  {
   "cell_type": "markdown",
   "metadata": {
    "collapsed": true
   },
   "source": [
    "#### `arc_df`: *text* column contains untruncated text instead of displayable text"
   ]
  },
  {
   "cell_type": "markdown",
   "metadata": {},
   "source": [
    "##### Define\n",
    "Using the *display_text_range* of `status_df` table, extract displayable text from text column"
   ]
  },
  {
   "cell_type": "markdown",
   "metadata": {},
   "source": [
    "##### Code"
   ]
  },
  {
   "cell_type": "code",
   "execution_count": 1933,
   "metadata": {},
   "outputs": [
    {
     "name": "stdout",
     "output_type": "stream",
     "text": [
      "This is Phineas. He's a mystical boy. Only ever appears in the hole of a donut. 13/10 https://t.co/MgUWQ76dJU\n",
      "This is Tilly. She's just checking pup on you. Hopes you're doing ok. If not, she's available for pats, snugs, boops, the whole bit. 13/10 https://t.co/0Xxu71qeIV\n",
      "This is Archie. He is a rare Norwegian Pouncing Corgo. Lives in the tall grass. You never know when one may strike. 12/10 https://t.co/wUnZnhtVJB\n"
     ]
    }
   ],
   "source": [
    "\n",
    "print(archive_clean.iloc[0].text)\n",
    "print(archive_clean.iloc[1].text)\n",
    "print(archive_clean.iloc[2].text)"
   ]
  },
  {
   "cell_type": "code",
   "execution_count": 1934,
   "metadata": {
    "collapsed": true
   },
   "outputs": [],
   "source": [
    "\n",
    "archive_clean = pd.merge(archive_clean, status_df[['tweet_id', 'display_text_range']], on='tweet_id')"
   ]
  },
  {
   "cell_type": "code",
   "execution_count": 1935,
   "metadata": {
    "collapsed": true
   },
   "outputs": [],
   "source": [
    "\n",
    "for i, row in archive_clean.iterrows():\n",
    "    text_range = row.display_text_range\n",
    "    display_text = row.text[text_range[0]:text_range[1]]\n",
    "    archive_clean.set_value(i, 'text', display_text)"
   ]
  },
  {
   "cell_type": "code",
   "execution_count": 1936,
   "metadata": {
    "collapsed": true
   },
   "outputs": [],
   "source": [
    "\n",
    "archive_clean.drop('display_text_range', axis=1, inplace=True)"
   ]
  },
  {
   "cell_type": "markdown",
   "metadata": {},
   "source": [
    "##### Test"
   ]
  },
  {
   "cell_type": "code",
   "execution_count": 1937,
   "metadata": {},
   "outputs": [
    {
     "name": "stdout",
     "output_type": "stream",
     "text": [
      "This is Phineas. He's a mystical boy. Only ever appears in the hole of a donut. 13/10\n",
      "This is Tilly. She's just checking pup on you. Hopes you're doing ok. If not, she's available for pats, snugs, boops, the whole bit. 13/10\n",
      "This is Archie. He is a rare Norwegian Pouncing Corgo. Lives in the tall grass. You never know when one may strike. 12/10\n"
     ]
    }
   ],
   "source": [
    "\n",
    "print(archive_clean.iloc[0].text)\n",
    "print(archive_clean.iloc[1].text)\n",
    "print(archive_clean.iloc[2].text)  "
   ]
  },
  {
   "cell_type": "markdown",
   "metadata": {
    "collapsed": true
   },
   "source": [
    "#### `arc_df`: *rating_denominator* column has values other than 10"
   ]
  },
  {
   "cell_type": "markdown",
   "metadata": {},
   "source": [
    "##### Define\n",
    "For records whose *rating_denominator* is greater than 10 and divisible by 10, use the quotient as the divisor to divide the *rating_numerator*. If the numerator turns out to be divisible (i.e. remainder=0), assign this quotient as the *rating_numerator*.\n",
    "\n",
    "For the remaining records, check if the *text* column contains any fraction whose denominator is 10. If it does, update the *rating_denominator* to 10. Additionally, update the *rating_numerator* with the numerator value of this fraction."
   ]
  },
  {
   "cell_type": "markdown",
   "metadata": {},
   "source": [
    "##### Code"
   ]
  },
  {
   "cell_type": "code",
   "execution_count": 1939,
   "metadata": {
    "collapsed": true
   },
   "outputs": [],
   "source": [
    "\n",
    "pattern = \"\\s*(\\d+([.]\\d+)?([/]\\d+))\"\n",
    "\n",
    "# function which will match the above pattern and return an array of fractions, if any\n",
    "def tokens(x):\n",
    "  return [m.group(1) for m in re.finditer(pattern, x)]"
   ]
  },
  {
   "cell_type": "code",
   "execution_count": 1943,
   "metadata": {
    "collapsed": true,
    "scrolled": true
   },
   "outputs": [],
   "source": [
    "\n",
    "for i, row in archive_clean[archive_clean.rating_denominator != 10].iterrows():\n",
    "    d = row.rating_denominator\n",
    "    \n",
    "    # if rating_denominator is greater than 10 and divisible by 10\n",
    "    if d > 10 and d%10 == 0:\n",
    "        # assign divisor as the quotient\n",
    "        divisor = d/10\n",
    "        n = row.rating_numerator\n",
    "        \n",
    "        # if rating_numerator is greater than 10 and divisible by the divisor\n",
    "        if n%divisor == 0:\n",
    "            # reassign rating_denominator as 10\n",
    "            archive_clean.set_value(i, 'rating_denominator', 10)\n",
    "            # reassign rating_numerator as the quotient of rating_numerator by divisor\n",
    "            archive_clean.set_value(i, 'rating_numerator', int(n/divisor))\n",
    "    \n",
    "    # for all those records whose rating_denominator is either less than 10 or not divisible by 10\n",
    "    else:\n",
    "        # extract all fractions(ratings) from text using tokens function\n",
    "        ratings = tokens(row.text)\n",
    "        # iterate through all the fractions\n",
    "        for rating in ratings:\n",
    "            # if denominator of any such fraction is equal to 10\n",
    "            if rating.split('/')[1] == '10':\n",
    "                # reassign rating_denominator as 10\n",
    "                archive_clean.set_value(i, 'rating_denominator', 10)\n",
    "                # reassign rating_numerator as the numerator value of this fraction\n",
    "                archive_clean.set_value(i, 'rating_numerator', int(round(float(rating.split('/')[0]))))\n",
    "                break"
   ]
  },
  {
   "cell_type": "markdown",
   "metadata": {},
   "source": [
    "##### Test"
   ]
  },
  {
   "cell_type": "code",
   "execution_count": 1944,
   "metadata": {},
   "outputs": [
    {
     "data": {
      "text/plain": [
       "10    1993\n",
       "7        1\n",
       "Name: rating_denominator, dtype: int64"
      ]
     },
     "execution_count": 1944,
     "metadata": {},
     "output_type": "execute_result"
    }
   ],
   "source": [
    "archive_clean.rating_denominator.value_counts()"
   ]
  },
  {
   "cell_type": "markdown",
   "metadata": {},
   "source": [
    "#### `arc_df`: *rating_numerator* column has values less than or equal to 10 as well as some very large numbers (e.g. 1176)"
   ]
  },
  {
   "cell_type": "markdown",
   "metadata": {},
   "source": [
    "##### Define\n",
    "For all those records whose *rating numerator* is either less than or equal to 10 or greater than 10 but has a very high value, check if the text contains any fraction whose denominator is 10. If it does, update the *rating_numerator* with the numerator value of this fraction."
   ]
  },
  {
   "cell_type": "code",
   "execution_count": 1949,
   "metadata": {},
   "outputs": [
    {
     "data": {
      "text/plain": [
       "0         2\n",
       "1         4\n",
       "2        10\n",
       "3        19\n",
       "4        15\n",
       "5        33\n",
       "6        32\n",
       "7        51\n",
       "8        95\n",
       "9       152\n",
       "10      422\n",
       "24        1\n",
       "26        1\n",
       "27        1\n",
       "75        1\n",
       "420       1\n",
       "1776      1\n",
       "Name: rating_numerator, dtype: int64"
      ]
     },
     "execution_count": 1949,
     "metadata": {},
     "output_type": "execute_result"
    }
   ],
   "source": [
    "archive_clean[(archive_clean.rating_numerator <= 10) | (archive_clean.rating_numerator > 14)].rating_numerator.value_counts().sort_index()"
   ]
  },
  {
   "cell_type": "markdown",
   "metadata": {},
   "source": [
    "##### Code"
   ]
  },
  {
   "cell_type": "code",
   "execution_count": 1961,
   "metadata": {
    "collapsed": true
   },
   "outputs": [],
   "source": [
    "\n",
    "for i, row in archive_clean[(archive_clean.rating_numerator <= 10) | (archive_clean.rating_numerator > 14)].iterrows():\n",
    "    ratings = tokens(row.text)\n",
    "    for rating in ratings:        \n",
    "        if rating.split('/')[1] == '10':\n",
    "            n = int(round(float(rating.split('/')[0])))\n",
    "            if (row.rating_numerator == 10 and n > 10) or (row.rating_numerator != 10 and n >= 10):\n",
    "                archive_clean.set_value(i, 'rating_numerator', n)\n",
    "                break"
   ]
  },
  {
   "cell_type": "markdown",
   "metadata": {},
   "source": [
    "##### Test"
   ]
  },
  {
   "cell_type": "code",
   "execution_count": 1962,
   "metadata": {},
   "outputs": [
    {
     "data": {
      "text/plain": [
       "0         2\n",
       "1         4\n",
       "2         9\n",
       "3        19\n",
       "4        14\n",
       "5        31\n",
       "6        32\n",
       "7        51\n",
       "8        94\n",
       "9       152\n",
       "10      421\n",
       "24        1\n",
       "420       1\n",
       "1776      1\n",
       "Name: rating_numerator, dtype: int64"
      ]
     },
     "execution_count": 1962,
     "metadata": {},
     "output_type": "execute_result"
    }
   ],
   "source": [
    "archive_clean[(archive_clean.rating_numerator <= 10) | (archive_clean.rating_numerator > 14)].rating_numerator.value_counts().sort_index()"
   ]
  },
  {
   "cell_type": "markdown",
   "metadata": {},
   "source": [
    "#### `arc_df`: erroneous dog names starting with lowercase characters (e.g. a, an, actually, by)"
   ]
  },
  {
   "cell_type": "markdown",
   "metadata": {},
   "source": [
    "##### Define\n",
    "Replace all lowercase values of *name* column with None"
   ]
  },
  {
   "cell_type": "markdown",
   "metadata": {},
   "source": [
    "##### Code"
   ]
  },
  {
   "cell_type": "code",
   "execution_count": 1963,
   "metadata": {},
   "outputs": [
    {
     "name": "stderr",
     "output_type": "stream",
     "text": [
      "C:\\Users\\admin\\Anaconda3\\lib\\site-packages\\ipykernel_launcher.py:1: SettingWithCopyWarning: \n",
      "A value is trying to be set on a copy of a slice from a DataFrame\n",
      "\n",
      "See the caveats in the documentation: http://pandas.pydata.org/pandas-docs/stable/indexing.html#indexing-view-versus-copy\n",
      "  \"\"\"Entry point for launching an IPython kernel.\n"
     ]
    }
   ],
   "source": [
    "archive_clean['name'][archive_clean['name'].str.match('[a-z]+')] = 'None'"
   ]
  },
  {
   "cell_type": "markdown",
   "metadata": {},
   "source": [
    "##### Test"
   ]
  },
  {
   "cell_type": "code",
   "execution_count": 1964,
   "metadata": {
    "scrolled": true
   },
   "outputs": [
    {
     "data": {
      "text/plain": [
       "None    644\n",
       "Name: name, dtype: int64"
      ]
     },
     "execution_count": 1964,
     "metadata": {},
     "output_type": "execute_result"
    }
   ],
   "source": [
    "archive_clean.name[archive_clean.name == 'None'].value_counts()"
   ]
  },
  {
   "cell_type": "code",
   "execution_count": 1966,
   "metadata": {
    "scrolled": true
   },
   "outputs": [
    {
     "data": {
      "text/plain": [
       "Zuzu            1\n",
       "Zooey           1\n",
       "Zoey            3\n",
       "Zoe             1\n",
       "Ziva            1\n",
       "Zeus            1\n",
       "Zeke            3\n",
       "Zeek            1\n",
       "Zara            1\n",
       "Yogi            2\n",
       "Yoda            1\n",
       "Wyatt           3\n",
       "Wishes          1\n",
       "Winston         8\n",
       "Winnie          4\n",
       "Winifred        1\n",
       "Wilson          3\n",
       "Willy           1\n",
       "Willow          1\n",
       "Willie          1\n",
       "William         1\n",
       "Willem          1\n",
       "Wiggles         1\n",
       "Wesley          1\n",
       "Watson          2\n",
       "Walter          3\n",
       "Wally           2\n",
       "Wallace         3\n",
       "Walker          1\n",
       "Waffles         3\n",
       "               ..\n",
       "Apollo          1\n",
       "Antony          1\n",
       "Anthony         1\n",
       "Anna            1\n",
       "Angel           1\n",
       "Andy            1\n",
       "Andru           1\n",
       "Anakin          1\n",
       "Amélie          1\n",
       "Amy             1\n",
       "Ambrose         1\n",
       "Amber           1\n",
       "Alice           2\n",
       "Alfy            1\n",
       "Alfie           4\n",
       "Alf             1\n",
       "Alexanderson    1\n",
       "Alexander       1\n",
       "Alejandro       1\n",
       "Aldrick         1\n",
       "Albus           2\n",
       "Albert          2\n",
       "Al              1\n",
       "Akumi           1\n",
       "Aja             1\n",
       "Aiden           1\n",
       "Adele           1\n",
       "Acro            1\n",
       "Ace             1\n",
       "Abby            2\n",
       "Name: name, Length: 914, dtype: int64"
      ]
     },
     "execution_count": 1966,
     "metadata": {},
     "output_type": "execute_result"
    }
   ],
   "source": [
    "\n",
    "archive_clean.name.value_counts().sort_index(ascending=False)"
   ]
  },
  {
   "cell_type": "markdown",
   "metadata": {},
   "source": [
    "#### `arc_df`: some records have more than one dog stage"
   ]
  },
  {
   "cell_type": "code",
   "execution_count": 1956,
   "metadata": {},
   "outputs": [
    {
     "name": "stdout",
     "output_type": "stream",
     "text": [
      "1\n",
      "1\n",
      "9\n"
     ]
    }
   ],
   "source": [
    "print(len(archive_clean[(archive_clean.doggo != 'None') & (archive_clean.floofer != 'None')]))\n",
    "print(len(archive_clean[(archive_clean.doggo != 'None') & (archive_clean.puppo != 'None')]))\n",
    "print(len(archive_clean[(archive_clean.doggo != 'None') & (archive_clean.pupper != 'None')]))"
   ]
  },
  {
   "cell_type": "markdown",
   "metadata": {},
   "source": [
    "##### Define\n",
    "There is one record that has both *doggo* and *floofer* and another record that has both *doggo* and *puppo*. For these 2 records, take a look at the text manually to decide one dog stage for each of them. For ambiguous texts, set both the column values as None.\n",
    "\n",
    "There are 9 records which have both *doggo* and *pupper*. As per the dogtionary, *doggo* and *pupper* are sometimes used interchangeably. Therefore, set *pupper* column as None for these 9 records."
   ]
  },
  {
   "cell_type": "markdown",
   "metadata": {},
   "source": [
    "##### Code"
   ]
  },
  {
   "cell_type": "code",
   "execution_count": 1958,
   "metadata": {},
   "outputs": [
    {
     "name": "stdout",
     "output_type": "stream",
     "text": [
      "855851453814013952 Here's a puppo participating in the #ScienceMarch. Cleverly disguising her own doggo agenda. 13/10 would keep the planet habitable for\n",
      "\n",
      "854010172552949760 At first I thought this was a shy doggo, but it's actually a Rare Canadian Floofer Owl. Amateurs would confuse the two. 11/10 only send dogs\n",
      "\n"
     ]
    }
   ],
   "source": [
    "for i, row in archive_clean[((archive_clean.doggo != 'None') & (archive_clean.floofer != 'None'))\n",
    "                   | ((archive_clean.doggo != 'None') & (archive_clean.puppo != 'None'))].iterrows():\n",
    "    print('%s %s\\n'%(row.tweet_id, row.text))"
   ]
  },
  {
   "cell_type": "code",
   "execution_count": 1959,
   "metadata": {},
   "outputs": [
    {
     "name": "stderr",
     "output_type": "stream",
     "text": [
      "C:\\Users\\admin\\Anaconda3\\lib\\site-packages\\ipykernel_launcher.py:2: SettingWithCopyWarning: \n",
      "A value is trying to be set on a copy of a slice from a DataFrame\n",
      "\n",
      "See the caveats in the documentation: http://pandas.pydata.org/pandas-docs/stable/indexing.html#indexing-view-versus-copy\n",
      "  \n"
     ]
    }
   ],
   "source": [
    "# based on the above texts, doggo should be set as None for both the records\n",
    "archive_clean['doggo'][archive_clean.tweet_id.isin([855851453814013952, 854010172552949760])] = 'None'"
   ]
  },
  {
   "cell_type": "code",
   "execution_count": 1957,
   "metadata": {},
   "outputs": [
    {
     "name": "stderr",
     "output_type": "stream",
     "text": [
      "C:\\Users\\admin\\Anaconda3\\lib\\site-packages\\ipykernel_launcher.py:1: SettingWithCopyWarning: \n",
      "A value is trying to be set on a copy of a slice from a DataFrame\n",
      "\n",
      "See the caveats in the documentation: http://pandas.pydata.org/pandas-docs/stable/indexing.html#indexing-view-versus-copy\n",
      "  \"\"\"Entry point for launching an IPython kernel.\n"
     ]
    }
   ],
   "source": [
    "# set pupper column as None for records which have both doggo and pupper\n",
    "archive_clean['pupper'][(archive_clean.doggo != 'None') & (archive_clean.pupper != 'None')] = 'None'"
   ]
  },
  {
   "cell_type": "markdown",
   "metadata": {},
   "source": [
    "##### Test"
   ]
  },
  {
   "cell_type": "code",
   "execution_count": 1967,
   "metadata": {
    "scrolled": true
   },
   "outputs": [
    {
     "data": {
      "text/plain": [
       "0"
      ]
     },
     "execution_count": 1967,
     "metadata": {},
     "output_type": "execute_result"
    }
   ],
   "source": [
    "len(archive_clean[((archive_clean.doggo != 'None') & (archive_clean.pupper != 'None'))\n",
    "                  | ((archive_clean.doggo != 'None') & (archive_clean.floofer != 'None')) \n",
    "                  | ((archive_clean.doggo != 'None') & (archive_clean.puppo != 'None'))])"
   ]
  },
  {
   "cell_type": "markdown",
   "metadata": {},
   "source": [
    "### Tidiness"
   ]
  },
  {
   "cell_type": "markdown",
   "metadata": {},
   "source": [
    "#### doggo, floofer, pupper and puppo columns in `arc_df` table should be merged into one column named \"stage\""
   ]
  },
  {
   "cell_type": "code",
   "execution_count": 1969,
   "metadata": {},
   "outputs": [
    {
     "data": {
      "text/plain": [
       "None     1922\n",
       "doggo      72\n",
       "Name: doggo, dtype: int64"
      ]
     },
     "execution_count": 1969,
     "metadata": {},
     "output_type": "execute_result"
    }
   ],
   "source": [
    "archive_clean.doggo.value_counts()"
   ]
  },
  {
   "cell_type": "code",
   "execution_count": 1970,
   "metadata": {},
   "outputs": [
    {
     "data": {
      "text/plain": [
       "None       1986\n",
       "floofer       8\n",
       "Name: floofer, dtype: int64"
      ]
     },
     "execution_count": 1970,
     "metadata": {},
     "output_type": "execute_result"
    }
   ],
   "source": [
    "archive_clean.floofer.value_counts()"
   ]
  },
  {
   "cell_type": "code",
   "execution_count": 1971,
   "metadata": {},
   "outputs": [
    {
     "data": {
      "text/plain": [
       "None      1791\n",
       "pupper     203\n",
       "Name: pupper, dtype: int64"
      ]
     },
     "execution_count": 1971,
     "metadata": {},
     "output_type": "execute_result"
    }
   ],
   "source": [
    "archive_clean.pupper.value_counts()"
   ]
  },
  {
   "cell_type": "code",
   "execution_count": 1972,
   "metadata": {},
   "outputs": [
    {
     "data": {
      "text/plain": [
       "None     1971\n",
       "puppo      23\n",
       "Name: puppo, dtype: int64"
      ]
     },
     "execution_count": 1972,
     "metadata": {},
     "output_type": "execute_result"
    }
   ],
   "source": [
    "archive_clean.puppo.value_counts()"
   ]
  },
  {
   "cell_type": "markdown",
   "metadata": {},
   "source": [
    "##### Define\n",
    "Merge the *doggo*, *floofer*, *pupper* and *puppo* columns to a *stage* column. Convert the datatype from string to categorical as it helps with analysis and visualization and saves memory on disk.\n",
    "\n",
    "Drop the *doggo*, *floofer*, *pupper* and *puppo* columns."
   ]
  },
  {
   "cell_type": "markdown",
   "metadata": {},
   "source": [
    "##### Code"
   ]
  },
  {
   "cell_type": "code",
   "execution_count": 1974,
   "metadata": {
    "collapsed": true
   },
   "outputs": [],
   "source": [
    "\n",
    "archive_clean['stage'] = archive_clean[['doggo', 'floofer', 'pupper', 'puppo']].max(axis=1)"
   ]
  },
  {
   "cell_type": "code",
   "execution_count": 1975,
   "metadata": {
    "collapsed": true
   },
   "outputs": [],
   "source": [
    "\n",
    "archive_clean.stage = archive_clean.stage.astype('category')"
   ]
  },
  {
   "cell_type": "code",
   "execution_count": 1976,
   "metadata": {
    "collapsed": true
   },
   "outputs": [],
   "source": [
    "\n",
    "archive_clean.drop(['doggo', 'floofer', 'pupper', 'puppo'], axis=1, inplace=True)"
   ]
  },
  {
   "cell_type": "markdown",
   "metadata": {},
   "source": [
    "##### Test"
   ]
  },
  {
   "cell_type": "code",
   "execution_count": 1977,
   "metadata": {
    "scrolled": true
   },
   "outputs": [
    {
     "data": {
      "text/plain": [
       "None       1688\n",
       "pupper      203\n",
       "doggo        72\n",
       "puppo        23\n",
       "floofer       8\n",
       "Name: stage, dtype: int64"
      ]
     },
     "execution_count": 1977,
     "metadata": {},
     "output_type": "execute_result"
    }
   ],
   "source": [
    "archive_clean.stage.value_counts()"
   ]
  },
  {
   "cell_type": "code",
   "execution_count": 1978,
   "metadata": {},
   "outputs": [
    {
     "name": "stdout",
     "output_type": "stream",
     "text": [
      "<class 'pandas.core.frame.DataFrame'>\n",
      "Int64Index: 1994 entries, 0 to 1993\n",
      "Data columns (total 11 columns):\n",
      "tweet_id                 1994 non-null int64\n",
      "in_reply_to_status_id    1994 non-null int64\n",
      "in_reply_to_user_id      1994 non-null int64\n",
      "timestamp                1994 non-null datetime64[ns]\n",
      "source                   1994 non-null category\n",
      "text                     1994 non-null object\n",
      "expanded_urls            1994 non-null object\n",
      "rating_numerator         1994 non-null int64\n",
      "rating_denominator       1994 non-null int64\n",
      "name                     1994 non-null object\n",
      "stage                    1994 non-null category\n",
      "dtypes: category(2), datetime64[ns](1), int64(5), object(3)\n",
      "memory usage: 240.0+ KB\n"
     ]
    }
   ],
   "source": [
    "archive_clean.info()"
   ]
  },
  {
   "cell_type": "markdown",
   "metadata": {},
   "source": [
    "##### The following 2 tidiness issues will be cleaned together in a single iteration\n",
    "- #### *\"breed\"* column should be added in `arc_df` table, its values based on *p1_conf* and *p1_dog* columns of `img_df` table\n",
    "- #### *retweet_count* and *favorite_count* columns from `status_df` table should be joined with `arc_df` table"
   ]
  },
  {
   "cell_type": "markdown",
   "metadata": {},
   "source": [
    "##### Define\n",
    "Create *breed*, *retweet_count* and *favorite_count* columns in `arc_df` table. For each tweet_id, use the `img_df` table to check if *p1_conf* is greater than 0.95 (*i.e. 95% confidence interval*) and *p1_dog* is True. If it is, set the value of *p1* column in *breed* column. \n",
    "\n",
    "Also, fetch the *retweet_count* and *favorite_count* columns of `status_df` table and assign those values to `arc_df` table"
   ]
  },
  {
   "cell_type": "markdown",
   "metadata": {},
   "source": [
    "##### Code"
   ]
  },
  {
   "cell_type": "code",
   "execution_count": 1979,
   "metadata": {
    "collapsed": true
   },
   "outputs": [],
   "source": [
    "\n",
    "archive_clean['breed'] = 'None'\n",
    "archive_clean['retweet_count'] = 0\n",
    "archive_clean['favorite_count'] = 0"
   ]
  },
  {
   "cell_type": "code",
   "execution_count": 1980,
   "metadata": {
    "collapsed": true,
    "scrolled": true
   },
   "outputs": [],
   "source": [
    "\n",
    "for i, row in archive_clean.iterrows():\n",
    "    # fetch the retweet_count and favorite_count columns of status_df table and assign those values\n",
    "    archive_clean.set_value(i, 'retweet_count', status_df[status_df.tweet_id == row.tweet_id].retweet_count.iloc[0])\n",
    "    archive_clean.set_value(i, 'favorite_count', status_df[status_df.tweet_id == row.tweet_id].favorite_count.iloc[0])    \n",
    "    \n",
    "    img_prediction = img_df[img_df.tweet_id == row.tweet_id]\n",
    "    p1_conf = img_prediction.p1_conf.iloc[0]\n",
    "    p1_dog = img_prediction.p1_dog.iloc[0]\n",
    "    #  check if p1_conf is greater than 0.95 (i.e. 95% confidence interval) and p1_dog is True\n",
    "    if p1_conf >= 0.95 and p1_dog:\n",
    "        archive_clean.set_value(i, 'breed', img_prediction.p1.iloc[0])"
   ]
  },
  {
   "cell_type": "markdown",
   "metadata": {},
   "source": [
    "##### Test"
   ]
  },
  {
   "cell_type": "code",
   "execution_count": 1981,
   "metadata": {
    "scrolled": true
   },
   "outputs": [
    {
     "data": {
      "text/plain": [
       "None                           1808\n",
       "pug                              20\n",
       "Pembroke                         19\n",
       "Samoyed                          19\n",
       "golden_retriever                 16\n",
       "Pomeranian                       13\n",
       "Labrador_retriever                9\n",
       "Chihuahua                         9\n",
       "French_bulldog                    8\n",
       "chow                              7\n",
       "Bernese_mountain_dog              4\n",
       "Shetland_sheepdog                 4\n",
       "German_shepherd                   4\n",
       "Old_English_sheepdog              3\n",
       "Blenheim_spaniel                  3\n",
       "beagle                            3\n",
       "Pekinese                          3\n",
       "malamute                          2\n",
       "komondor                          2\n",
       "bull_mastiff                      2\n",
       "basset                            2\n",
       "dalmatian                         2\n",
       "Shih-Tzu                          2\n",
       "vizsla                            2\n",
       "English_springer                  2\n",
       "Rottweiler                        2\n",
       "keeshond                          2\n",
       "cocker_spaniel                    2\n",
       "Saint_Bernard                     2\n",
       "Boston_bull                       2\n",
       "schipperke                        1\n",
       "German_short-haired_pointer       1\n",
       "miniature_pinscher                1\n",
       "Brittany_spaniel                  1\n",
       "collie                            1\n",
       "Cardigan                          1\n",
       "Tibetan_mastiff                   1\n",
       "Weimaraner                        1\n",
       "briard                            1\n",
       "Siberian_husky                    1\n",
       "Great_Pyrenees                    1\n",
       "Great_Dane                        1\n",
       "toy_poodle                        1\n",
       "Maltese_dog                       1\n",
       "boxer                             1\n",
       "Norwegian_elkhound                1\n",
       "Name: breed, dtype: int64"
      ]
     },
     "execution_count": 1981,
     "metadata": {},
     "output_type": "execute_result"
    }
   ],
   "source": [
    "archive_clean.breed.value_counts()"
   ]
  },
  {
   "cell_type": "code",
   "execution_count": 1982,
   "metadata": {},
   "outputs": [
    {
     "data": {
      "text/html": [
       "<div>\n",
       "<style>\n",
       "    .dataframe thead tr:only-child th {\n",
       "        text-align: right;\n",
       "    }\n",
       "\n",
       "    .dataframe thead th {\n",
       "        text-align: left;\n",
       "    }\n",
       "\n",
       "    .dataframe tbody tr th {\n",
       "        vertical-align: top;\n",
       "    }\n",
       "</style>\n",
       "<table border=\"1\" class=\"dataframe\">\n",
       "  <thead>\n",
       "    <tr style=\"text-align: right;\">\n",
       "      <th></th>\n",
       "      <th>tweet_id</th>\n",
       "      <th>retweet_count</th>\n",
       "      <th>favorite_count</th>\n",
       "    </tr>\n",
       "  </thead>\n",
       "  <tbody>\n",
       "    <tr>\n",
       "      <th>303</th>\n",
       "      <td>824297048279236611</td>\n",
       "      <td>4435</td>\n",
       "      <td>16549</td>\n",
       "    </tr>\n",
       "    <tr>\n",
       "      <th>1944</th>\n",
       "      <td>666835007768551424</td>\n",
       "      <td>83</td>\n",
       "      <td>221</td>\n",
       "    </tr>\n",
       "    <tr>\n",
       "      <th>1493</th>\n",
       "      <td>675870721063669760</td>\n",
       "      <td>628</td>\n",
       "      <td>1771</td>\n",
       "    </tr>\n",
       "    <tr>\n",
       "      <th>353</th>\n",
       "      <td>815966073409433600</td>\n",
       "      <td>9835</td>\n",
       "      <td>24950</td>\n",
       "    </tr>\n",
       "    <tr>\n",
       "      <th>1572</th>\n",
       "      <td>674053186244734976</td>\n",
       "      <td>1430</td>\n",
       "      <td>3551</td>\n",
       "    </tr>\n",
       "  </tbody>\n",
       "</table>\n",
       "</div>"
      ],
      "text/plain": [
       "                tweet_id  retweet_count  favorite_count\n",
       "303   824297048279236611           4435           16549\n",
       "1944  666835007768551424             83             221\n",
       "1493  675870721063669760            628            1771\n",
       "353   815966073409433600           9835           24950\n",
       "1572  674053186244734976           1430            3551"
      ]
     },
     "execution_count": 1982,
     "metadata": {},
     "output_type": "execute_result"
    }
   ],
   "source": [
    "archive_clean[['tweet_id', 'retweet_count', 'favorite_count']].sample(5)"
   ]
  },
  {
   "cell_type": "markdown",
   "metadata": {},
   "source": [
    "---"
   ]
  },
  {
   "cell_type": "markdown",
   "metadata": {},
   "source": [
    "## Storing Data"
   ]
  },
  {
   "cell_type": "code",
   "execution_count": 1983,
   "metadata": {
    "collapsed": true
   },
   "outputs": [],
   "source": [
    "archive_clean.to_csv('twitter_archive_master.csv', encoding='utf-8', index=False)"
   ]
  },
  {
   "cell_type": "markdown",
   "metadata": {},
   "source": [
    "## Analyzing Data"
   ]
  },
  {
   "cell_type": "code",
   "execution_count": 1495,
   "metadata": {
    "collapsed": true
   },
   "outputs": [],
   "source": [
    "\n",
    "df = archive_clean.copy()"
   ]
  },
  {
   "cell_type": "code",
   "execution_count": 1984,
   "metadata": {},
   "outputs": [
    {
     "name": "stdout",
     "output_type": "stream",
     "text": [
      "<class 'pandas.core.frame.DataFrame'>\n",
      "Int64Index: 1994 entries, 0 to 1993\n",
      "Data columns (total 14 columns):\n",
      "tweet_id                 1994 non-null int64\n",
      "in_reply_to_status_id    1994 non-null int64\n",
      "in_reply_to_user_id      1994 non-null int64\n",
      "timestamp                1994 non-null datetime64[ns]\n",
      "source                   1994 non-null category\n",
      "text                     1994 non-null object\n",
      "expanded_urls            1994 non-null object\n",
      "rating_numerator         1994 non-null int64\n",
      "rating_denominator       1994 non-null int64\n",
      "name                     1994 non-null object\n",
      "stage                    1994 non-null category\n",
      "breed                    1994 non-null object\n",
      "retweet_count            1994 non-null int64\n",
      "favorite_count           1994 non-null int64\n",
      "dtypes: category(2), datetime64[ns](1), int64(7), object(4)\n",
      "memory usage: 286.7+ KB\n"
     ]
    }
   ],
   "source": [
    "df.info()"
   ]
  },
  {
   "cell_type": "markdown",
   "metadata": {},
   "source": [
    "#### Analyzing number of tweets posted by WeRateDogs' over time"
   ]
  },
  {
   "cell_type": "code",
   "execution_count": 1580,
   "metadata": {},
   "outputs": [
    {
     "data": {
      "text/plain": [
       "2015-11    296\n",
       "2015-12    367\n",
       "2016-01    169\n",
       "2016-02    111\n",
       "2016-03    120\n",
       "2016-04     54\n",
       "2016-05     57\n",
       "2016-06     81\n",
       "2016-07     88\n",
       "2016-08     59\n",
       "2016-09     63\n",
       "2016-10     65\n",
       "2016-11     53\n",
       "2016-12     54\n",
       "2017-01     66\n",
       "2017-02     64\n",
       "2017-03     48\n",
       "2017-04     41\n",
       "2017-05     43\n",
       "2017-06     44\n",
       "2017-07     49\n",
       "2017-08      2\n",
       "Name: timestamp, dtype: int64"
      ]
     },
     "execution_count": 1580,
     "metadata": {},
     "output_type": "execute_result"
    }
   ],
   "source": [
    "df['timestamp'].apply(lambda x: x.strftime('%Y-%m')).value_counts().sort_index()"
   ]
  },
  {
   "cell_type": "markdown",
   "metadata": {},
   "source": [
    "#### Most used Twitter source"
   ]
  },
  {
   "cell_type": "code",
   "execution_count": 1600,
   "metadata": {},
   "outputs": [
    {
     "data": {
      "text/plain": [
       "Twitter for iPhone    1955\n",
       "Twitter Web Client      28\n",
       "TweetDeck               11\n",
       "Name: source, dtype: int64"
      ]
     },
     "execution_count": 1600,
     "metadata": {},
     "output_type": "execute_result"
    }
   ],
   "source": [
    "df['source'].value_counts()"
   ]
  },
  {
   "cell_type": "markdown",
   "metadata": {},
   "source": [
    "<font color=blue>WeRateDogs has posted 98% of the tweets from iPhone.</font>"
   ]
  },
  {
   "cell_type": "markdown",
   "metadata": {},
   "source": [
    "#### Analysis of rating of dogs"
   ]
  },
  {
   "cell_type": "code",
   "execution_count": 1985,
   "metadata": {},
   "outputs": [
    {
     "data": {
      "text/plain": [
       "0         3\n",
       "1         4\n",
       "2         9\n",
       "3        19\n",
       "4        14\n",
       "5        31\n",
       "6        32\n",
       "7        51\n",
       "8        94\n",
       "9       152\n",
       "10      421\n",
       "11      407\n",
       "12      455\n",
       "13      263\n",
       "14       37\n",
       "420       1\n",
       "1776      1\n",
       "Name: rating_numerator, dtype: int64"
      ]
     },
     "execution_count": 1985,
     "metadata": {},
     "output_type": "execute_result"
    }
   ],
   "source": [
    "df['rating_numerator'].value_counts().sort_index()"
   ]
  },
  {
   "cell_type": "code",
   "execution_count": 1986,
   "metadata": {},
   "outputs": [
    {
     "data": {
      "text/plain": [
       "1164"
      ]
     },
     "execution_count": 1986,
     "metadata": {},
     "output_type": "execute_result"
    }
   ],
   "source": [
    "df['rating_numerator'][df['rating_numerator'] > 10].value_counts().sum()"
   ]
  },
  {
   "cell_type": "markdown",
   "metadata": {},
   "source": [
    "<font color=blue>Out of a total of 1994 dogs rated by WeRateDogs, a total of 1164 dogs were rated above 10, which is almost 60%. However, only 2% (i.e. 37) were rated the highest (excluding the ratings of 420 and 1776 which are outliers).</font>"
   ]
  },
  {
   "cell_type": "markdown",
   "metadata": {},
   "source": [
    "#### Analysis of dog breed (*as identified by image prediction*)"
   ]
  },
  {
   "cell_type": "code",
   "execution_count": 1987,
   "metadata": {},
   "outputs": [
    {
     "data": {
      "text/plain": [
       "None    1808\n",
       "Name: breed, dtype: int64"
      ]
     },
     "execution_count": 1987,
     "metadata": {},
     "output_type": "execute_result"
    }
   ],
   "source": [
    "df['breed'][df['breed'] == 'None'].value_counts()"
   ]
  },
  {
   "cell_type": "markdown",
   "metadata": {},
   "source": [
    "<font color=blue>The breed of 1808 dogs out of 1994 (i.e. 90%) couldn't be predicted. So, at 95% confidence interval, the image prediction algorithm was able to predict the breed for 10% of the dog population of this data set.</font>"
   ]
  },
  {
   "cell_type": "markdown",
   "metadata": {},
   "source": [
    "#### Analysis of retweet and favorite counts"
   ]
  },
  {
   "cell_type": "code",
   "execution_count": 1988,
   "metadata": {},
   "outputs": [
    {
     "name": "stdout",
     "output_type": "stream",
     "text": [
      "Mean Retweet Count\t2767\n",
      "Mean Favorite Count\t8919\n"
     ]
    }
   ],
   "source": [
    "print('%s\\t%s' % ('Mean Retweet Count', round(df.retweet_count.mean())))\n",
    "print('%s\\t%s' % ('Mean Favorite Count', round(df.favorite_count.mean())))"
   ]
  },
  {
   "cell_type": "markdown",
   "metadata": {},
   "source": [
    "##### <font color=blue>When the dog is rated greater than 10</font>"
   ]
  },
  {
   "cell_type": "code",
   "execution_count": 1989,
   "metadata": {},
   "outputs": [
    {
     "name": "stdout",
     "output_type": "stream",
     "text": [
      "Mean Retweet Count\t3845\n",
      "Mean Favorite Count\t12825\n"
     ]
    }
   ],
   "source": [
    "print('%s\\t%s' % ('Mean Retweet Count', \n",
    "                  round(df.retweet_count[df.rating_numerator > 10].mean())))\n",
    "print('%s\\t%s' % ('Mean Favorite Count', \n",
    "                  round(df.favorite_count[df.rating_numerator > 10].mean())))"
   ]
  },
  {
   "cell_type": "markdown",
   "metadata": {},
   "source": [
    "##### <font color=blue>When the dog has a name</font>"
   ]
  },
  {
   "cell_type": "code",
   "execution_count": 1990,
   "metadata": {},
   "outputs": [
    {
     "name": "stdout",
     "output_type": "stream",
     "text": [
      "Mean Retweet Count\t2741\n",
      "Mean Favorite Count\t9397\n"
     ]
    }
   ],
   "source": [
    "print('%s\\t%s' % ('Mean Retweet Count', \n",
    "                  round(df.retweet_count[df.name != 'None'].mean())))\n",
    "print('%s\\t%s' % ('Mean Favorite Count', \n",
    "                  round(df.favorite_count[df.name != 'None'].mean())))"
   ]
  },
  {
   "cell_type": "markdown",
   "metadata": {},
   "source": [
    "##### <font color=blue>Categorized on dog-stage</font>"
   ]
  },
  {
   "cell_type": "code",
   "execution_count": 1991,
   "metadata": {},
   "outputs": [
    {
     "name": "stdout",
     "output_type": "stream",
     "text": [
      "Doggo\n",
      "Mean Retweet Count\t6701\n",
      "Mean Favorite Count\t18418\n",
      "Floofer\n",
      "Mean Retweet Count\t4739\n",
      "Mean Favorite Count\t13639\n",
      "Pupper\n",
      "Mean Retweet Count\t2349\n",
      "Mean Favorite Count\t7170\n",
      "Puppo\n",
      "Mean Retweet Count\t6976\n",
      "Mean Favorite Count\t22623\n"
     ]
    }
   ],
   "source": [
    "print('Doggo')\n",
    "print('%s\\t%s' % ('Mean Retweet Count', \n",
    "                  round(df.retweet_count[df.stage == 'doggo'].mean())))\n",
    "print('%s\\t%s' % ('Mean Favorite Count', \n",
    "                  round(df.favorite_count[df.stage == 'doggo'].mean())))\n",
    "\n",
    "print('Floofer')\n",
    "print('%s\\t%s' % ('Mean Retweet Count', \n",
    "                  round(df.retweet_count[df.stage == 'floofer'].mean())))\n",
    "print('%s\\t%s' % ('Mean Favorite Count', \n",
    "                  round(df.favorite_count[df.stage == 'floofer'].mean())))\n",
    "\n",
    "print('Pupper')\n",
    "print('%s\\t%s' % ('Mean Retweet Count', \n",
    "                  round(df.retweet_count[df.stage == 'pupper'].mean())))\n",
    "print('%s\\t%s' % ('Mean Favorite Count', \n",
    "                  round(df.favorite_count[df.stage == 'pupper'].mean())))\n",
    "\n",
    "print('Puppo')\n",
    "print('%s\\t%s' % ('Mean Retweet Count', \n",
    "                  round(df.retweet_count[df.stage == 'puppo'].mean())))\n",
    "print('%s\\t%s' % ('Mean Favorite Count', \n",
    "                  round(df.favorite_count[df.stage == 'puppo'].mean())))"
   ]
  },
  {
   "cell_type": "code",
   "execution_count": 1861,
   "metadata": {
    "scrolled": true
   },
   "outputs": [
    {
     "data": {
      "text/plain": [
       "None        644\n",
       "Charlie      11\n",
       "Lucy         10\n",
       "Cooper       10\n",
       "Oliver       10\n",
       "Penny         9\n",
       "Tucker        9\n",
       "Sadie         8\n",
       "Winston       8\n",
       "Daisy         7\n",
       "Toby          7\n",
       "Lola          7\n",
       "Stanley       6\n",
       "Jax           6\n",
       "Bo            6\n",
       "Bella         6\n",
       "Koda          6\n",
       "Milo          5\n",
       "Louis         5\n",
       "Leo           5\n",
       "Rusty         5\n",
       "Chester       5\n",
       "Dave          5\n",
       "Oscar         5\n",
       "Scout         5\n",
       "Buddy         5\n",
       "Bailey        5\n",
       "Clark         4\n",
       "Winnie        4\n",
       "Clarence      4\n",
       "           ... \n",
       "Kirk          1\n",
       "Grizzie       1\n",
       "Iggy          1\n",
       "Wishes        1\n",
       "Fido          1\n",
       "Bronte        1\n",
       "Kayla         1\n",
       "Dante         1\n",
       "Mairi         1\n",
       "Sweet         1\n",
       "Jerome        1\n",
       "Tupawc        1\n",
       "Chef          1\n",
       "Livvie        1\n",
       "Rorie         1\n",
       "Nugget        1\n",
       "Lambeau       1\n",
       "Shikha        1\n",
       "Glenn         1\n",
       "Richie        1\n",
       "Napolean      1\n",
       "Blue          1\n",
       "Hanz          1\n",
       "Boston        1\n",
       "Dunkin        1\n",
       "Edd           1\n",
       "Kyro          1\n",
       "Kial          1\n",
       "Gerbald       1\n",
       "Ashleigh      1\n",
       "Name: name, Length: 914, dtype: int64"
      ]
     },
     "execution_count": 1861,
     "metadata": {},
     "output_type": "execute_result"
    }
   ],
   "source": [
    "df.name.value_counts()"
   ]
  },
  {
   "cell_type": "markdown",
   "metadata": {},
   "source": [
    "----"
   ]
  },
  {
   "cell_type": "markdown",
   "metadata": {},
   "source": [
    "## Visualizing Data"
   ]
  },
  {
   "cell_type": "code",
   "execution_count": 1992,
   "metadata": {
    "collapsed": true
   },
   "outputs": [],
   "source": [
    "import matplotlib.pyplot as plt\n",
    "%matplotlib inline\n",
    "plt.rcParams[\"figure.figsize\"] = [12, 9]"
   ]
  },
  {
   "cell_type": "code",
   "execution_count": 1993,
   "metadata": {},
   "outputs": [
    {
     "data": {
      "image/png": "[encoded data removed]",
      "text/plain": [
       "<matplotlib.figure.Figure at 0x23448d24d68>"
      ]
     },
     "metadata": {},
     "output_type": "display_data"
    }
   ],
   "source": [
    "data = df.tweet_id.groupby([df[\"timestamp\"].dt.year, df[\"timestamp\"].dt.month]).count()\n",
    "ax = data.plot('line', title='WeRateDogs tweeting trend over time')\n",
    "ax.set_xlabel(\"(Year, Month)\")\n",
    "ax.set_ylabel(\"Number of Tweets\")\n",
    "ax.set_ylim(0, )\n",
    "plt.savefig('tweet_trend')"
   ]
  },
  {
   "cell_type": "code",
   "execution_count": 1994,
   "metadata": {},
   "outputs": [
    {
     "data": {
      "image/png": "[encoded data removed]",
      "text/plain": [
       "<matplotlib.figure.Figure at 0x2344886c978>"
      ]
     },
     "metadata": {},
     "output_type": "display_data"
    }
   ],
   "source": [
    "ax = df.rating_numerator.value_counts().sort_index().plot('bar', title = 'Dog Rating distribution')\n",
    "ax.set_xlabel(\"Rating out of 10\")\n",
    "ax.set_ylabel(\"Number of Dogs\")\n",
    "ax.set_yticks([0, 50, 100, 150, 200, 250, 300, 350, 400, 450])\n",
    "plt.savefig('rating_dist')"
   ]
  },
  {
   "cell_type": "code",
   "execution_count": 1996,
   "metadata": {
    "scrolled": false
   },
   "outputs": [
    {
     "data": {
      "image/png": "[encoded data removed]",
      "text/plain": [
       "<matplotlib.figure.Figure at 0x23448f27160>"
      ]
     },
     "metadata": {},
     "output_type": "display_data"
    }
   ],
   "source": [
    "plt.subplots(1, sharex=True)\n",
    "df.retweet_count.groupby([df[\"timestamp\"].dt.year, df[\"timestamp\"].dt.month]).mean().plot('line')\n",
    "df.favorite_count.groupby([df[\"timestamp\"].dt.year, df[\"timestamp\"].dt.month]).mean().plot('line').set_ylim(0, )\n",
    "plt.title('Retweeting and Favoriting trend over time')\n",
    "plt.ylabel('Count')\n",
    "plt.xlabel('(Year, Month)')\n",
    "plt.legend(('Retweets', 'Favorites'))\n",
    "plt.savefig('ret_fav')"
   ]
  },
  {
   "cell_type": "code",
   "execution_count": 1997,
   "metadata": {},
   "outputs": [
    {
     "data": {
      "image/png": "[encoded data removed]",
      "text/plain": [
       "<matplotlib.figure.Figure at 0x23448e04550>"
      ]
     },
     "metadata": {},
     "output_type": "display_data"
    }
   ],
   "source": [
    "df['source'].value_counts().plot('barh', figsize=(11,5), title='Most used Twitter source').set_xlabel(\"Number of Tweets\")\n",
    "plt.savefig('twitter_source')"
   ]
  },
  {
   "cell_type": "code",
   "execution_count": 1998,
   "metadata": {},
   "outputs": [
    {
     "data": {
      "image/png": "[encoded data removed]",
      "text/plain": [
       "<matplotlib.figure.Figure at 0x234488c4710>"
      ]
     },
     "metadata": {},
     "output_type": "display_data"
    }
   ],
   "source": [
    "df.name.value_counts()[1:7].plot('barh', figsize=(11,5), title='Top 6 common dog names').set_xlabel(\"Number of Dogs\")\n",
    "plt.savefig('dog_names')"
   ]
  }
 ],
 "metadata": {
  "kernelspec": {
   "display_name": "Python 3",
   "language": "python",
   "name": "python3"
  },
  "language_info": {
   "codemirror_mode": {
    "name": "ipython",
    "version": 3
   },
   "file_extension": ".py",
   "mimetype": "text/x-python",
   "name": "python",
   "nbconvert_exporter": "python",
   "pygments_lexer": "ipython3",
   "version": "3.7.1"
  }
 },
 "nbformat": 4,
 "nbformat_minor": 2
}
